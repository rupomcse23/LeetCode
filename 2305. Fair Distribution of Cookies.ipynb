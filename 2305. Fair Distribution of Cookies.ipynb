{
 "cells": [
  {
   "cell_type": "code",
   "execution_count": 10,
   "id": "54b49975",
   "metadata": {},
   "outputs": [],
   "source": [
    "class Solution(object):\n",
    "    def distributeCookies(self, cookies, k):\n",
    "        \"\"\"\n",
    "        :type cookies: List[int]\n",
    "        :type k: int\n",
    "        :rtype: int\n",
    "        \"\"\"\n",
    "        \n",
    "        n = [0] * k\n",
    "        self.res=float(\"inf\")\n",
    "        def backtrack(curr):\n",
    "            if curr==len(cookies):\n",
    "                # print(n)\n",
    "                self.res=min(self.res,max(n))\n",
    "                return\n",
    "            if max(n)>=self.res:\n",
    "                return\n",
    "            for i in range(k):\n",
    "                n[i]+=cookies[curr]\n",
    "                backtrack(curr+1)\n",
    "                n[i]-=cookies[curr]\n",
    "                if n[i] == 0:\n",
    "                    break\n",
    "        backtrack(0)\n",
    "        return self.res\n",
    "    "
   ]
  },
  {
   "cell_type": "code",
   "execution_count": null,
   "id": "438f5171",
   "metadata": {},
   "outputs": [],
   "source": [
    "\n",
    "Solution.distributeCookies()"
   ]
  },
  {
   "cell_type": "code",
   "execution_count": null,
   "id": "cb890593",
   "metadata": {},
   "outputs": [],
   "source": []
  }
 ],
 "metadata": {
  "kernelspec": {
   "display_name": "Python 3 (ipykernel)",
   "language": "python",
   "name": "python3"
  },
  "language_info": {
   "codemirror_mode": {
    "name": "ipython",
    "version": 3
   },
   "file_extension": ".py",
   "mimetype": "text/x-python",
   "name": "python",
   "nbconvert_exporter": "python",
   "pygments_lexer": "ipython3",
   "version": "3.9.13"
  }
 },
 "nbformat": 4,
 "nbformat_minor": 5
}
