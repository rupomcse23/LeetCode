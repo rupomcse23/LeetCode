{
 "cells": [
  {
   "cell_type": "code",
   "execution_count": 18,
   "id": "0ff43895-a4c9-4b18-8f14-d72109509785",
   "metadata": {},
   "outputs": [],
   "source": [
    "def longestArithSeqLength(nums):\n",
    "        \"\"\"\n",
    "        :type nums: List[int]\n",
    "        :rtype: int\n",
    "        \"\"\"\n",
    "        lis = [1] * len(nums)\n",
    "        for i in range(len(nums)-1,-1,-1):\n",
    "            for j in range(i+1,len(nums)):\n",
    "                if(nums[i] < nums[j]):\n",
    "                    lis[i] = max(lis[i], 1 + lis[j] )\n",
    "        return (lis)"
   ]
  },
  {
   "cell_type": "code",
   "execution_count": 19,
   "id": "3c77f58f-4022-45f0-aa8d-3b8846742d18",
   "metadata": {},
   "outputs": [
    {
     "data": {
      "text/plain": [
       "[1, 4, 4, 3, 2, 1, 1, 1]"
      ]
     },
     "execution_count": 19,
     "metadata": {},
     "output_type": "execute_result"
    }
   ],
   "source": [
    "nums = [83,20,17,43,52,78,68,45]\n",
    "\n",
    "longestArithSeqLength(nums)"
   ]
  },
  {
   "cell_type": "code",
   "execution_count": null,
   "id": "a9361b4e-6ce9-4112-8b99-75d4a3032b94",
   "metadata": {},
   "outputs": [],
   "source": []
  }
 ],
 "metadata": {
  "kernelspec": {
   "display_name": "Python 3 (ipykernel)",
   "language": "python",
   "name": "python3"
  },
  "language_info": {
   "codemirror_mode": {
    "name": "ipython",
    "version": 3
   },
   "file_extension": ".py",
   "mimetype": "text/x-python",
   "name": "python",
   "nbconvert_exporter": "python",
   "pygments_lexer": "ipython3",
   "version": "3.9.13"
  }
 },
 "nbformat": 4,
 "nbformat_minor": 5
}
