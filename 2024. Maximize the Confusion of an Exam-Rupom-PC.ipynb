{
 "cells": [
  {
   "cell_type": "code",
   "execution_count": 1,
   "id": "6b9b8588",
   "metadata": {},
   "outputs": [],
   "source": [
    "def maxConsecutiveAnswers(answerKey, k):\n",
    "        \"\"\"\n",
    "        :type answerKey: str\n",
    "        :type k: int\n",
    "        :rtype: int\n",
    "        \"\"\"\n",
    "        freq = 0\n",
    "        i = 0\n",
    "        d = {'T': 0, 'F': 0} \n",
    "        for j in range(len(answerKey)):\n",
    "            d[answerKey[j]] += 1\n",
    "\n",
    "            freq = max(freq, d[answerKey[j]] )\n",
    "            if j -i +1 > freq + k:\n",
    "                d[answerKey[i]] -= 1\n",
    "                i += 1\n",
    "        return len(answerKey) -i"
   ]
  },
  {
   "cell_type": "code",
   "execution_count": 2,
   "id": "00e84ada",
   "metadata": {},
   "outputs": [
    {
     "data": {
      "text/plain": [
       "4"
      ]
     },
     "execution_count": 2,
     "metadata": {},
     "output_type": "execute_result"
    }
   ],
   "source": [
    "k= 2 \n",
    "answerKey = \"TTFF\"\n",
    "maxConsecutiveAnswers(answerKey, k)"
   ]
  },
  {
   "cell_type": "code",
   "execution_count": null,
   "id": "d32feaf5",
   "metadata": {},
   "outputs": [],
   "source": []
  }
 ],
 "metadata": {
  "kernelspec": {
   "display_name": "Python 3 (ipykernel)",
   "language": "python",
   "name": "python3"
  },
  "language_info": {
   "codemirror_mode": {
    "name": "ipython",
    "version": 3
   },
   "file_extension": ".py",
   "mimetype": "text/x-python",
   "name": "python",
   "nbconvert_exporter": "python",
   "pygments_lexer": "ipython3",
   "version": "3.9.13"
  }
 },
 "nbformat": 4,
 "nbformat_minor": 5
}
