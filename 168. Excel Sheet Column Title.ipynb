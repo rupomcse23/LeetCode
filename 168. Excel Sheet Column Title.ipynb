{
 "cells": [
  {
   "cell_type": "code",
   "execution_count": 9,
   "id": "53651bbb",
   "metadata": {},
   "outputs": [],
   "source": [
    "def convertToTitle(columnNumber):\n",
    "    \"\"\"\n",
    "    :type columnNumber: int\n",
    "    :rtype: str\n",
    "    \"\"\"\n",
    "    columnNumber -= 1\n",
    "    c = 1\n",
    "    \n",
    "    while columnNumber >= pow(26,c):\n",
    "        columnNumber -= pow(26,c)\n",
    "        c += 1\n",
    "    ans = []\n",
    "    \n",
    "    for _ in range(c):\n",
    "        ans.append(chr(columnNumber%26 + ord('A')))\n",
    "        columnNumber //= 26\n",
    "    return ''.join(reversed(ans))\n",
    "    "
   ]
  },
  {
   "cell_type": "code",
   "execution_count": 10,
   "id": "004ed8f5",
   "metadata": {},
   "outputs": [
    {
     "data": {
      "text/plain": [
       "'ACS'"
      ]
     },
     "execution_count": 10,
     "metadata": {},
     "output_type": "execute_result"
    }
   ],
   "source": [
    "columnNumber = 773\n",
    "convertToTitle(columnNumber)"
   ]
  },
  {
   "cell_type": "code",
   "execution_count": null,
   "id": "f8aba746",
   "metadata": {},
   "outputs": [],
   "source": []
  }
 ],
 "metadata": {
  "kernelspec": {
   "display_name": "Python 3 (ipykernel)",
   "language": "python",
   "name": "python3"
  },
  "language_info": {
   "codemirror_mode": {
    "name": "ipython",
    "version": 3
   },
   "file_extension": ".py",
   "mimetype": "text/x-python",
   "name": "python",
   "nbconvert_exporter": "python",
   "pygments_lexer": "ipython3",
   "version": "3.9.13"
  }
 },
 "nbformat": 4,
 "nbformat_minor": 5
}
