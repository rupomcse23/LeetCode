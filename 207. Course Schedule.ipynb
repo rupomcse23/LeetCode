{
 "cells": [
  {
   "cell_type": "code",
   "execution_count": 1,
   "id": "6edcdc20-ff02-49e4-950f-fceda151c21f",
   "metadata": {},
   "outputs": [],
   "source": [
    "def canFinish(numCourses, prerequisites):\n",
    "    \n",
    "    \"\"\"\n",
    "    :type numCourses: int\n",
    "    :type prerequisites: List[List[int]]\n",
    "    :rtype: bool\n",
    "    \"\"\"\n",
    "    preMap = {i: [] for i in range(numCourses)}\n",
    "    visitSet = set()\n",
    "    \n",
    "    for crs,pre in prerequisites:\n",
    "        preMap[crs].append(pre)\n",
    "    \n",
    "    def dfs(crs):\n",
    "        if crs in visitSet:\n",
    "            return False\n",
    "        if preMap[crs] == []:\n",
    "            return True\n",
    "        \n",
    "        visitSet.add(crs)\n",
    "        \n",
    "        for pre in preMap[crs]:\n",
    "            if not dfs(pre):\n",
    "                return False\n",
    "        visitSet.remove(crs)\n",
    "        preMap[crs] = []\n",
    "        return True\n",
    "        \n",
    "    for crs in range(numCourses):\n",
    "        if not dfs(crs):\n",
    "            return False\n",
    "    return True\n",
    "        \n",
    "    "
   ]
  },
  {
   "cell_type": "code",
   "execution_count": 2,
   "id": "9875e432-1fe0-4648-8859-0d5585b4c2de",
   "metadata": {},
   "outputs": [
    {
     "data": {
      "text/plain": [
       "True"
      ]
     },
     "execution_count": 2,
     "metadata": {},
     "output_type": "execute_result"
    }
   ],
   "source": [
    "numCourses = 2\n",
    "prerequisites = [[1,0]]\n",
    "canFinish(numCourses, prerequisites)"
   ]
  },
  {
   "cell_type": "code",
   "execution_count": null,
   "id": "3413ee00-be76-4ab3-b506-5449f781525d",
   "metadata": {},
   "outputs": [],
   "source": []
  }
 ],
 "metadata": {
  "kernelspec": {
   "display_name": "Python 3 (ipykernel)",
   "language": "python",
   "name": "python3"
  },
  "language_info": {
   "codemirror_mode": {
    "name": "ipython",
    "version": 3
   },
   "file_extension": ".py",
   "mimetype": "text/x-python",
   "name": "python",
   "nbconvert_exporter": "python",
   "pygments_lexer": "ipython3",
   "version": "3.9.13"
  }
 },
 "nbformat": 4,
 "nbformat_minor": 5
}
