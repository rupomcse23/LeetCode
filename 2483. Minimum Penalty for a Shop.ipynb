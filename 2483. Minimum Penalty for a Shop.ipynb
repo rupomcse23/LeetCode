{
 "cells": [
  {
   "cell_type": "code",
   "execution_count": 1,
   "id": "f375e062",
   "metadata": {},
   "outputs": [],
   "source": [
    "def bestClosingTime(customers):\n",
    "    \"\"\"\n",
    "    :type customers: str\n",
    "    :rtype: int\n",
    "    \"\"\"\n",
    "    \n",
    "    c = map(lambda x: 1 if x =='Y' else -1, customers)\n",
    "    \n",
    "    score, max_score, close = 0, 0, 0\n",
    "    \n",
    "    for i,j in enumerate(c):\n",
    "        score += j\n",
    "        if score > max_score:\n",
    "            max_score = score\n",
    "            close = i + 1\n",
    "    return close\n",
    "\n",
    "    "
   ]
  },
  {
   "cell_type": "code",
   "execution_count": 2,
   "id": "f2f219f7",
   "metadata": {},
   "outputs": [
    {
     "data": {
      "text/plain": [
       "6"
      ]
     },
     "execution_count": 2,
     "metadata": {},
     "output_type": "execute_result"
    }
   ],
   "source": [
    "customers = \"YYNYYYNN\"\n",
    "bestClosingTime(customers)"
   ]
  },
  {
   "cell_type": "code",
   "execution_count": null,
   "id": "8ed6c065",
   "metadata": {},
   "outputs": [],
   "source": []
  },
  {
   "cell_type": "code",
   "execution_count": null,
   "id": "dfeba623",
   "metadata": {},
   "outputs": [],
   "source": []
  }
 ],
 "metadata": {
  "kernelspec": {
   "display_name": "Python 3 (ipykernel)",
   "language": "python",
   "name": "python3"
  },
  "language_info": {
   "codemirror_mode": {
    "name": "ipython",
    "version": 3
   },
   "file_extension": ".py",
   "mimetype": "text/x-python",
   "name": "python",
   "nbconvert_exporter": "python",
   "pygments_lexer": "ipython3",
   "version": "3.9.13"
  }
 },
 "nbformat": 4,
 "nbformat_minor": 5
}
