{
 "cells": [
  {
   "cell_type": "code",
   "execution_count": null,
   "id": "10266074-f7c5-4614-91af-416389a2cb63",
   "metadata": {},
   "outputs": [],
   "source": [
    "def isSubsequence(s, t):\n",
    "    \"\"\"\n",
    "    :type s: str\n",
    "    :type t: str\n",
    "    :rtype: bool\n",
    "    \"\"\"\n",
    "    j = 0\n",
    "    if len(s)> len(t):\n",
    "        return False\n",
    "    elif len(s) == 0 or (len(s) == 0 and len(t) == 0):\n",
    "        return True\n",
    "    \n",
    "    for i in range(len(t)):\n",
    "        if s[j] == t[i]:\n",
    "            j+=1\n",
    "            if j == len(s):\n",
    "                return True\n",
    "    return False"
   ]
  },
  {
   "cell_type": "code",
   "execution_count": null,
   "id": "b57c06b6-3740-4e5c-af1f-1bd96db675d3",
   "metadata": {},
   "outputs": [],
   "source": [
    "s = \"a\"\n",
    "t = \"\"\n",
    "isSubsequence(s, t)"
   ]
  },
  {
   "cell_type": "code",
   "execution_count": null,
   "id": "142cded7-fa43-4373-b1ac-65f65d0cf855",
   "metadata": {},
   "outputs": [],
   "source": []
  }
 ],
 "metadata": {
  "kernelspec": {
   "display_name": "Python 3 (ipykernel)",
   "language": "python",
   "name": "python3"
  },
  "language_info": {
   "codemirror_mode": {
    "name": "ipython",
    "version": 3
   },
   "file_extension": ".py",
   "mimetype": "text/x-python",
   "name": "python",
   "nbconvert_exporter": "python",
   "pygments_lexer": "ipython3",
   "version": "3.9.13"
  }
 },
 "nbformat": 4,
 "nbformat_minor": 5
}
