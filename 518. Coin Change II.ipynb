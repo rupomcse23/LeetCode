{
 "cells": [
  {
   "cell_type": "code",
   "execution_count": 1,
   "id": "a56eb627",
   "metadata": {},
   "outputs": [],
   "source": [
    "def change(amount, coins):\n",
    "    \"\"\"\n",
    "    :type amount: int\n",
    "    :type coins: List[int]\n",
    "    :rtype: int\n",
    "    \"\"\"\n",
    "    cache = {}\n",
    "    def dfs(i,a):\n",
    "        if a == amount:\n",
    "            return 1\n",
    "        if a > amount:\n",
    "            return 0\n",
    "        if i == len(coins):\n",
    "            return 0\n",
    "        if (i,a) in cache:\n",
    "            return cache[(i,a)]\n",
    "        \n",
    "        cache[(i,a)] = dfs(i, a+coins[i]) + dfs(i+1,a)\n",
    "        return cache[(i,a)]\n",
    "    return dfs(0,0)\n",
    "    \n",
    "    "
   ]
  },
  {
   "cell_type": "code",
   "execution_count": 3,
   "id": "6e1fa0a1",
   "metadata": {},
   "outputs": [
    {
     "data": {
      "text/plain": [
       "4"
      ]
     },
     "execution_count": 3,
     "metadata": {},
     "output_type": "execute_result"
    }
   ],
   "source": [
    "amount = 5\n",
    "coins = [1,2,5]\n",
    "change(amount, coins)"
   ]
  },
  {
   "cell_type": "code",
   "execution_count": null,
   "id": "b93ce092",
   "metadata": {},
   "outputs": [],
   "source": []
  }
 ],
 "metadata": {
  "kernelspec": {
   "display_name": "Python 3 (ipykernel)",
   "language": "python",
   "name": "python3"
  },
  "language_info": {
   "codemirror_mode": {
    "name": "ipython",
    "version": 3
   },
   "file_extension": ".py",
   "mimetype": "text/x-python",
   "name": "python",
   "nbconvert_exporter": "python",
   "pygments_lexer": "ipython3",
   "version": "3.9.13"
  }
 },
 "nbformat": 4,
 "nbformat_minor": 5
}
