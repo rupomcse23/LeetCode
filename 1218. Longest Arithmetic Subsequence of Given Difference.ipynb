{
 "cells": [
  {
   "cell_type": "code",
   "execution_count": 1,
   "id": "ac00a253-7e7f-4e87-a6c9-9be6399d0807",
   "metadata": {},
   "outputs": [],
   "source": [
    "def longestSubsequence(arr, difference):\n",
    "        \"\"\"\n",
    "        :type arr: List[int]\n",
    "        :type difference: int\n",
    "        :rtype: int\n",
    "        \"\"\"\n",
    "        dp = {}\n",
    "        max_len = 0\n",
    "        \n",
    "        for num in arr:\n",
    "            if num - difference in dp:\n",
    "                dp[num] = dp[num-difference] +1\n",
    "            else:\n",
    "                dp[num] = 1\n",
    "            max_len = max(max_len, dp[num])\n",
    "        return max_len"
   ]
  },
  {
   "cell_type": "code",
   "execution_count": 2,
   "id": "01c1e458-c242-43ea-b3c0-076f6a4feed4",
   "metadata": {},
   "outputs": [
    {
     "data": {
      "text/plain": [
       "4"
      ]
     },
     "execution_count": 2,
     "metadata": {},
     "output_type": "execute_result"
    }
   ],
   "source": [
    "arr = [1,2,3,4]\n",
    "difference = 1\n",
    "longestSubsequence(arr, difference)"
   ]
  },
  {
   "cell_type": "code",
   "execution_count": null,
   "id": "f46f33e8-e2f9-4791-b1ae-d9d74efa48f9",
   "metadata": {},
   "outputs": [],
   "source": []
  }
 ],
 "metadata": {
  "kernelspec": {
   "display_name": "Python 3 (ipykernel)",
   "language": "python",
   "name": "python3"
  },
  "language_info": {
   "codemirror_mode": {
    "name": "ipython",
    "version": 3
   },
   "file_extension": ".py",
   "mimetype": "text/x-python",
   "name": "python",
   "nbconvert_exporter": "python",
   "pygments_lexer": "ipython3",
   "version": "3.9.13"
  }
 },
 "nbformat": 4,
 "nbformat_minor": 5
}
