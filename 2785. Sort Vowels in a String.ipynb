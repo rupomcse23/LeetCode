{
 "cells": [
  {
   "cell_type": "code",
   "execution_count": 1,
   "id": "a3d89ff1",
   "metadata": {},
   "outputs": [],
   "source": [
    "def sortVowels(s):\n",
    "    \"\"\"\n",
    "    :type s: str\n",
    "    :rtype: str\n",
    "    \"\"\"\n",
    "    vowels = 'aeiouAEIOU'\n",
    "    new_string = ''\n",
    "    sorted_vowels = sorted([c for c in s if c in vowels])\n",
    "    \n",
    "    for c in s:\n",
    "        if c in vowels:\n",
    "            new_string += sorted_vowels.pop(0)\n",
    "        else:\n",
    "            new_string += c\n",
    "    return new_string"
   ]
  },
  {
   "cell_type": "code",
   "execution_count": 2,
   "id": "6c7c7697",
   "metadata": {},
   "outputs": [
    {
     "data": {
      "text/plain": [
       "'lEOtcede'"
      ]
     },
     "execution_count": 2,
     "metadata": {},
     "output_type": "execute_result"
    }
   ],
   "source": [
    "s = \"lEetcOde\"\n",
    "sortVowels(s)"
   ]
  },
  {
   "cell_type": "code",
   "execution_count": null,
   "id": "4c991532",
   "metadata": {},
   "outputs": [],
   "source": []
  }
 ],
 "metadata": {
  "kernelspec": {
   "display_name": "Python 3 (ipykernel)",
   "language": "python",
   "name": "python3"
  },
  "language_info": {
   "codemirror_mode": {
    "name": "ipython",
    "version": 3
   },
   "file_extension": ".py",
   "mimetype": "text/x-python",
   "name": "python",
   "nbconvert_exporter": "python",
   "pygments_lexer": "ipython3",
   "version": "3.9.13"
  }
 },
 "nbformat": 4,
 "nbformat_minor": 5
}
