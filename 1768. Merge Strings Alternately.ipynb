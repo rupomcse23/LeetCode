{
 "cells": [
  {
   "cell_type": "code",
   "execution_count": 38,
   "id": "bc4f7b4b",
   "metadata": {},
   "outputs": [],
   "source": [
    "def mergeAlternately(word1, word2):\n",
    "\n",
    "    \"\"\"\n",
    "    :type word1: str\n",
    "    :type word2: str\n",
    "    :rtype: str\n",
    "    \"\"\"\n",
    "    nw = str()\n",
    "    for i in range (0, max(len(word1), len(word2))+1):\n",
    "        if i>len(word1)-1:\n",
    "            nw += ' '\n",
    "        else:\n",
    "            nw += word1[i]\n",
    "        \n",
    "        if i>len(word2)-1:\n",
    "            nw += ' '\n",
    "        else:\n",
    "            nw += word2[i]\n",
    "    return nw.replace(' ','')"
   ]
  },
  {
   "cell_type": "code",
   "execution_count": 39,
   "id": "777c9ee3",
   "metadata": {},
   "outputs": [
    {
     "data": {
      "text/plain": [
       "'apbqcr'"
      ]
     },
     "execution_count": 39,
     "metadata": {},
     "output_type": "execute_result"
    }
   ],
   "source": [
    "word1 = \"abc\"\n",
    "word2 = \"pqr\"\n",
    "mergeAlternately(word1, word2)"
   ]
  },
  {
   "cell_type": "code",
   "execution_count": null,
   "id": "4482e7c6",
   "metadata": {},
   "outputs": [],
   "source": []
  },
  {
   "cell_type": "code",
   "execution_count": null,
   "id": "fa7775d9",
   "metadata": {},
   "outputs": [],
   "source": []
  }
 ],
 "metadata": {
  "kernelspec": {
   "display_name": "Python 3 (ipykernel)",
   "language": "python",
   "name": "python3"
  },
  "language_info": {
   "codemirror_mode": {
    "name": "ipython",
    "version": 3
   },
   "file_extension": ".py",
   "mimetype": "text/x-python",
   "name": "python",
   "nbconvert_exporter": "python",
   "pygments_lexer": "ipython3",
   "version": "3.9.13"
  }
 },
 "nbformat": 4,
 "nbformat_minor": 5
}
