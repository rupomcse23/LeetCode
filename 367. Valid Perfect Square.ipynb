{
 "cells": [
  {
   "cell_type": "code",
   "execution_count": 1,
   "id": "a42171f5-adee-4c72-8269-3db925162c07",
   "metadata": {},
   "outputs": [],
   "source": [
    "def isPerfectSquare(num):\n",
    "    \"\"\"\n",
    "    :type num: int\n",
    "    :rtype: bool\n",
    "    \"\"\"\n",
    "    l = 1\n",
    "    r = num\n",
    "    while l <= r:\n",
    "        mid = (r+l)//2\n",
    "        if mid * mid > num:\n",
    "            r = mid - 1\n",
    "        elif mid * mid < num:\n",
    "            l = mid + 1\n",
    "        else:\n",
    "            return True\n",
    "    return False"
   ]
  },
  {
   "cell_type": "code",
   "execution_count": 2,
   "id": "daa2dc7a-8e06-4fa7-aae5-b357c7bdb126",
   "metadata": {},
   "outputs": [
    {
     "data": {
      "text/plain": [
       "False"
      ]
     },
     "execution_count": 2,
     "metadata": {},
     "output_type": "execute_result"
    }
   ],
   "source": [
    "num = 15\n",
    "isPerfectSquare(num)"
   ]
  },
  {
   "cell_type": "code",
   "execution_count": null,
   "id": "43eedf30-1b79-4df7-819a-4e378299bc66",
   "metadata": {},
   "outputs": [],
   "source": []
  }
 ],
 "metadata": {
  "kernelspec": {
   "display_name": "Python 3 (ipykernel)",
   "language": "python",
   "name": "python3"
  },
  "language_info": {
   "codemirror_mode": {
    "name": "ipython",
    "version": 3
   },
   "file_extension": ".py",
   "mimetype": "text/x-python",
   "name": "python",
   "nbconvert_exporter": "python",
   "pygments_lexer": "ipython3",
   "version": "3.9.13"
  }
 },
 "nbformat": 4,
 "nbformat_minor": 5
}
