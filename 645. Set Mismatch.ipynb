{
 "cells": [
  {
   "cell_type": "code",
   "execution_count": 1,
   "id": "9db2fb45",
   "metadata": {},
   "outputs": [],
   "source": [
    "from collections import Counter\n",
    "def findErrorNums(nums):\n",
    "    \"\"\"\n",
    "    :type nums: List[int]\n",
    "    :rtype: List[int]\n",
    "    \"\"\"\n",
    "    rep, mis = None, None\n",
    "    n = len(nums)\n",
    "    \n",
    "    lookup = Counter(nums)\n",
    "    for i in range(0, n+1):\n",
    "        if i not in lookup:\n",
    "            mis = i\n",
    "        if lookup[i]>1:\n",
    "            rep = i\n",
    "    \n",
    "    return [rep, mis]"
   ]
  },
  {
   "cell_type": "code",
   "execution_count": 2,
   "id": "38936710",
   "metadata": {},
   "outputs": [
    {
     "data": {
      "text/plain": [
       "[2, 3]"
      ]
     },
     "execution_count": 2,
     "metadata": {},
     "output_type": "execute_result"
    }
   ],
   "source": [
    "nums = [1,2,2,4]\n",
    "findErrorNums(nums)"
   ]
  },
  {
   "cell_type": "code",
   "execution_count": null,
   "id": "2152d605",
   "metadata": {},
   "outputs": [],
   "source": []
  }
 ],
 "metadata": {
  "kernelspec": {
   "display_name": "Python 3 (ipykernel)",
   "language": "python",
   "name": "python3"
  },
  "language_info": {
   "codemirror_mode": {
    "name": "ipython",
    "version": 3
   },
   "file_extension": ".py",
   "mimetype": "text/x-python",
   "name": "python",
   "nbconvert_exporter": "python",
   "pygments_lexer": "ipython3",
   "version": "3.9.13"
  }
 },
 "nbformat": 4,
 "nbformat_minor": 5
}
