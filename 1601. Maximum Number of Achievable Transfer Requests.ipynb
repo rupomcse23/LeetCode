{
 "cells": [
  {
   "cell_type": "code",
   "execution_count": 8,
   "id": "a258a138",
   "metadata": {},
   "outputs": [],
   "source": [
    "from collections import defaultdict\n",
    "def maximumRequests(n, requests):\n",
    "    \"\"\"\n",
    "    :type n: int\n",
    "    :type requests: List[List[int]]\n",
    "    :rtype: int\n",
    "    \"\"\"\n",
    "    indegree = defaultdict(int)\n",
    "    ans = 0\n",
    "    r = len(requests)\n",
    "    \n",
    "    def backTrack(i, count):\n",
    "        nonlocal ans\n",
    "        \n",
    "        if i == r:\n",
    "            for key in indegree:\n",
    "                if indegree[key] != 0:\n",
    "                    return\n",
    "            \n",
    "            ans = max(ans, count)\n",
    "            return\n",
    "        \n",
    "        f = requests[i][0]\n",
    "        t = requests[i][1]\n",
    "        \n",
    "        indegree[f] -= 1\n",
    "        indegree[t] += 1\n",
    "        \n",
    "        backTrack(i+1, count+1)\n",
    "        \n",
    "        indegree[f] += 1\n",
    "        indegree[t] -= 1\n",
    "        \n",
    "        backTrack(i+1, count)\n",
    "        \n",
    "    backTrack(0,0)\n",
    "    \n",
    "    return ans\n",
    "    "
   ]
  },
  {
   "cell_type": "code",
   "execution_count": 9,
   "id": "201571a2",
   "metadata": {},
   "outputs": [
    {
     "data": {
      "text/plain": [
       "5"
      ]
     },
     "execution_count": 9,
     "metadata": {},
     "output_type": "execute_result"
    }
   ],
   "source": [
    "n = 5\n",
    "requests = [[0,1],[1,0],[0,1],[1,2],[2,0],[3,4]]\n",
    "maximumRequests(n, requests)"
   ]
  },
  {
   "cell_type": "code",
   "execution_count": null,
   "id": "de67edbd",
   "metadata": {},
   "outputs": [],
   "source": []
  }
 ],
 "metadata": {
  "kernelspec": {
   "display_name": "Python 3 (ipykernel)",
   "language": "python",
   "name": "python3"
  },
  "language_info": {
   "codemirror_mode": {
    "name": "ipython",
    "version": 3
   },
   "file_extension": ".py",
   "mimetype": "text/x-python",
   "name": "python",
   "nbconvert_exporter": "python",
   "pygments_lexer": "ipython3",
   "version": "3.9.13"
  }
 },
 "nbformat": 4,
 "nbformat_minor": 5
}
