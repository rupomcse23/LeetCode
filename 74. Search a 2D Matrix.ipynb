{
 "cells": [
  {
   "cell_type": "code",
   "execution_count": 1,
   "id": "f956a247",
   "metadata": {},
   "outputs": [],
   "source": [
    "def searchMatrix(matrix, target):\n",
    "    \"\"\"\n",
    "    :type matrix: List[List[int]]\n",
    "    :type target: int\n",
    "    :rtype: bool\n",
    "    \"\"\"\n",
    "    rows = len(matrix)\n",
    "    cols = len(matrix[0])\n",
    "    \n",
    "    begin = 0\n",
    "    end = rows - 1\n",
    "    while (begin <= end):\n",
    "        row = (begin + end)//2\n",
    "        if target > matrix[row][-1]:\n",
    "            begin = row +1\n",
    "        elif target < matrix[row][0]:\n",
    "            end = row - 1\n",
    "        else:\n",
    "            break\n",
    "    if not (begin <= end):\n",
    "        return False\n",
    "    row = (begin + end)//2\n",
    "    l = 0\n",
    "    r = cols - 1\n",
    "    while (l<=r):\n",
    "            m = (l + r) // 2\n",
    "            if target > matrix[row][m]:\n",
    "                l = m + 1\n",
    "            elif target < matrix[row][m]:\n",
    "                r = m - 1\n",
    "            else:\n",
    "                return True\n",
    "    return False\n",
    "     \n",
    "    "
   ]
  },
  {
   "cell_type": "code",
   "execution_count": 2,
   "id": "faa899ff",
   "metadata": {},
   "outputs": [
    {
     "data": {
      "text/plain": [
       "False"
      ]
     },
     "execution_count": 2,
     "metadata": {},
     "output_type": "execute_result"
    }
   ],
   "source": [
    "matrix = [[1,3,5,7],[10,11,16,20],[23,30,34,60]]\n",
    "target = 2\n",
    "searchMatrix(matrix, target)"
   ]
  },
  {
   "cell_type": "code",
   "execution_count": null,
   "id": "567299ae",
   "metadata": {},
   "outputs": [],
   "source": []
  },
  {
   "cell_type": "code",
   "execution_count": null,
   "id": "7aca5171",
   "metadata": {},
   "outputs": [],
   "source": [
    "\n",
    "\n"
   ]
  },
  {
   "cell_type": "code",
   "execution_count": null,
   "id": "435d055b",
   "metadata": {},
   "outputs": [],
   "source": []
  },
  {
   "cell_type": "code",
   "execution_count": 3,
   "id": "5c59e354",
   "metadata": {},
   "outputs": [],
   "source": [
    "# another approach\n"
   ]
  },
  {
   "cell_type": "code",
   "execution_count": 4,
   "id": "2d2210aa",
   "metadata": {},
   "outputs": [],
   "source": [
    "def searchMatrix(matrix, target):\n",
    "    \"\"\"\n",
    "    :type matrix: List[List[int]]\n",
    "    :type target: int\n",
    "    :rtype: bool\n",
    "    \"\"\"\n",
    "    def search(mat):\n",
    "        \n",
    "        mid = len(mat)//2\n",
    "        \n",
    "        if mid == 0:\n",
    "            return target in mat[0]\n",
    "        elif mat[mid][0] > target:\n",
    "            return search(mat[:mid])\n",
    "        return search(mat[mid:])\n",
    "    return search(matrix)"
   ]
  },
  {
   "cell_type": "code",
   "execution_count": 5,
   "id": "8800198c",
   "metadata": {},
   "outputs": [
    {
     "data": {
      "text/plain": [
       "True"
      ]
     },
     "execution_count": 5,
     "metadata": {},
     "output_type": "execute_result"
    }
   ],
   "source": [
    "matrix = [[1,3,5,7],[10,11,16,20],[23,30,34,60]]\n",
    "target = 30\n",
    "searchMatrix(matrix, target)"
   ]
  },
  {
   "cell_type": "code",
   "execution_count": null,
   "id": "7f038de4",
   "metadata": {},
   "outputs": [],
   "source": []
  }
 ],
 "metadata": {
  "kernelspec": {
   "display_name": "Python 3 (ipykernel)",
   "language": "python",
   "name": "python3"
  },
  "language_info": {
   "codemirror_mode": {
    "name": "ipython",
    "version": 3
   },
   "file_extension": ".py",
   "mimetype": "text/x-python",
   "name": "python",
   "nbconvert_exporter": "python",
   "pygments_lexer": "ipython3",
   "version": "3.9.13"
  }
 },
 "nbformat": 4,
 "nbformat_minor": 5
}
