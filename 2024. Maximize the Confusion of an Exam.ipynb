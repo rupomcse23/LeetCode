{
 "cells": [
  {
   "cell_type": "code",
   "execution_count": null,
   "id": "01d7724f",
   "metadata": {},
   "outputs": [],
   "source": [
    "def maxConsecutiveAnswers(answerKey, k):\n",
    "        \"\"\"\n",
    "        :type answerKey: str\n",
    "        :type k: int\n",
    "        :rtype: int\n",
    "        \"\"\""
   ]
  },
  {
   "cell_type": "code",
   "execution_count": null,
   "id": "46e30096",
   "metadata": {},
   "outputs": [],
   "source": [
    "k= 2 \n",
    "answerKey = \"TTFF\"\n",
    "maxConsecutiveAnswers(answerKey, k)"
   ]
  },
  {
   "cell_type": "code",
   "execution_count": null,
   "id": "9f98f52d",
   "metadata": {},
   "outputs": [],
   "source": []
  }
 ],
 "metadata": {
  "kernelspec": {
   "display_name": "Python 3 (ipykernel)",
   "language": "python",
   "name": "python3"
  },
  "language_info": {
   "codemirror_mode": {
    "name": "ipython",
    "version": 3
   },
   "file_extension": ".py",
   "mimetype": "text/x-python",
   "name": "python",
   "nbconvert_exporter": "python",
   "pygments_lexer": "ipython3",
   "version": "3.9.13"
  }
 },
 "nbformat": 4,
 "nbformat_minor": 5
}
