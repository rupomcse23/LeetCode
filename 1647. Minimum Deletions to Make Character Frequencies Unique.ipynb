{
 "cells": [
  {
   "cell_type": "code",
   "execution_count": 1,
   "id": "019c9a4a",
   "metadata": {},
   "outputs": [],
   "source": [
    "import collections\n",
    "def minDeletions(s):\n",
    "    \"\"\"\n",
    "    :type s: str\n",
    "    :rtype: int\n",
    "    \"\"\"\n",
    "    counts = sorted(collections.Counter(s).values())\n",
    "    total = 0\n",
    "    s = set()\n",
    "    \n",
    "    for x in counts:\n",
    "        while x in s and x > 0:\n",
    "            x -= 1 \n",
    "            total += 1\n",
    "        s.add(x)\n",
    "    return total\n",
    "    "
   ]
  },
  {
   "cell_type": "code",
   "execution_count": 5,
   "id": "6aa81d5f",
   "metadata": {},
   "outputs": [
    {
     "data": {
      "text/plain": [
       "0"
      ]
     },
     "execution_count": 5,
     "metadata": {},
     "output_type": "execute_result"
    }
   ],
   "source": [
    "s = \"aab\"\n",
    "minDeletions(s)"
   ]
  },
  {
   "cell_type": "code",
   "execution_count": null,
   "id": "9f7a07cf",
   "metadata": {},
   "outputs": [],
   "source": []
  }
 ],
 "metadata": {
  "kernelspec": {
   "display_name": "Python 3 (ipykernel)",
   "language": "python",
   "name": "python3"
  },
  "language_info": {
   "codemirror_mode": {
    "name": "ipython",
    "version": 3
   },
   "file_extension": ".py",
   "mimetype": "text/x-python",
   "name": "python",
   "nbconvert_exporter": "python",
   "pygments_lexer": "ipython3",
   "version": "3.9.13"
  }
 },
 "nbformat": 4,
 "nbformat_minor": 5
}
