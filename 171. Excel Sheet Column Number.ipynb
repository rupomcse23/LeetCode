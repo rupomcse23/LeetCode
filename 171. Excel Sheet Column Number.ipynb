{
 "cells": [
  {
   "cell_type": "code",
   "execution_count": 16,
   "id": "44668954",
   "metadata": {},
   "outputs": [],
   "source": [
    "def titleToNumber(columnTitle):\n",
    "    \"\"\"\n",
    "    :type columnTitle: str\n",
    "    :rtype: int\n",
    "    \"\"\"\n",
    "    d = {'A': 1,\n",
    "         'B': 2,\n",
    "         'C': 3,\n",
    "         'D': 4,\n",
    "         'E': 5,\n",
    "         'F': 6,\n",
    "         'G': 7,\n",
    "         'H': 8,\n",
    "         'I': 9,\n",
    "         'J': 10,\n",
    "         'K': 11,\n",
    "         'L': 12,\n",
    "         'M': 13,\n",
    "         'N': 14,\n",
    "         'O': 15,\n",
    "         'P': 16,\n",
    "         'Q': 17,\n",
    "         'R': 18,\n",
    "         'S': 19,\n",
    "         'T': 20,\n",
    "         'U': 21,\n",
    "         'V': 22,\n",
    "         'W': 23,\n",
    "         'X': 24,\n",
    "         'Y': 25,\n",
    "         'Z': 26}\n",
    "    n = len(columnTitle)-1\n",
    "    total = 0\n",
    "    \n",
    "    for i in columnTitle:\n",
    "        total += (26**n) * d[i]\n",
    "        n -= 1\n",
    "    \n",
    "    return total \n",
    "    \n",
    "    "
   ]
  },
  {
   "cell_type": "code",
   "execution_count": 17,
   "id": "606b0320",
   "metadata": {},
   "outputs": [
    {
     "data": {
      "text/plain": [
       "28"
      ]
     },
     "execution_count": 17,
     "metadata": {},
     "output_type": "execute_result"
    }
   ],
   "source": [
    "columnTitle ='AB' \n",
    "titleToNumber(columnTitle)"
   ]
  },
  {
   "cell_type": "code",
   "execution_count": null,
   "id": "e806e4c1",
   "metadata": {},
   "outputs": [],
   "source": []
  },
  {
   "cell_type": "code",
   "execution_count": null,
   "id": "75e7c6f7",
   "metadata": {},
   "outputs": [],
   "source": []
  }
 ],
 "metadata": {
  "kernelspec": {
   "display_name": "Python 3 (ipykernel)",
   "language": "python",
   "name": "python3"
  },
  "language_info": {
   "codemirror_mode": {
    "name": "ipython",
    "version": 3
   },
   "file_extension": ".py",
   "mimetype": "text/x-python",
   "name": "python",
   "nbconvert_exporter": "python",
   "pygments_lexer": "ipython3",
   "version": "3.9.13"
  }
 },
 "nbformat": 4,
 "nbformat_minor": 5
}
