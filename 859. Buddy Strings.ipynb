{
 "cells": [
  {
   "cell_type": "code",
   "execution_count": 5,
   "id": "2296c7b7",
   "metadata": {},
   "outputs": [],
   "source": [
    "from collections import Counter\n",
    "def buddyStrings(s, goal):\n",
    "        \"\"\"\n",
    "        :type s: str\n",
    "        :type goal: str\n",
    "        :rtype: bool\n",
    "        \"\"\"\n",
    "        c1 = Counter(s)\n",
    "        c2 = Counter(goal)\n",
    "        \n",
    "        if c1 != c2:\n",
    "            return False\n",
    "        diff = sum([1 for i in range(len(s)) if s[i] != goal[i]])\n",
    "        \n",
    "        if diff == 2:\n",
    "            return True\n",
    "        elif diff == 0:\n",
    "            return any([cnt > 1 for char, cnt in c1.items()])\n",
    "        else:\n",
    "            return False"
   ]
  },
  {
   "cell_type": "code",
   "execution_count": 7,
   "id": "dc97618e",
   "metadata": {},
   "outputs": [
    {
     "data": {
      "text/plain": [
       "True"
      ]
     },
     "execution_count": 7,
     "metadata": {},
     "output_type": "execute_result"
    }
   ],
   "source": [
    "s = \"ab\"\n",
    "goal = \"ba\"\n",
    "buddyStrings(s, goal)"
   ]
  },
  {
   "cell_type": "code",
   "execution_count": null,
   "id": "9299eebc",
   "metadata": {},
   "outputs": [],
   "source": []
  }
 ],
 "metadata": {
  "kernelspec": {
   "display_name": "Python 3 (ipykernel)",
   "language": "python",
   "name": "python3"
  },
  "language_info": {
   "codemirror_mode": {
    "name": "ipython",
    "version": 3
   },
   "file_extension": ".py",
   "mimetype": "text/x-python",
   "name": "python",
   "nbconvert_exporter": "python",
   "pygments_lexer": "ipython3",
   "version": "3.9.13"
  }
 },
 "nbformat": 4,
 "nbformat_minor": 5
}
