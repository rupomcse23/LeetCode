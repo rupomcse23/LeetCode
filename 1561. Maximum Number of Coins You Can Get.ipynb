{
 "cells": [
  {
   "cell_type": "code",
   "execution_count": 7,
   "id": "b97a1e80",
   "metadata": {},
   "outputs": [],
   "source": [
    "def maxCoins(piles):\n",
    "        \"\"\"\n",
    "        :type piles: List[int]\n",
    "        :rtype: int\n",
    "        \"\"\"\n",
    "        piles.sort()\n",
    "        total = 0\n",
    "        i = 0\n",
    "        j = len(piles)-1\n",
    "        while i < j:\n",
    "            total += piles[j-1]\n",
    "            i += 1\n",
    "            j -=2\n",
    "        return total"
   ]
  },
  {
   "cell_type": "code",
   "execution_count": 8,
   "id": "8e83bbe8",
   "metadata": {},
   "outputs": [
    {
     "data": {
      "text/plain": [
       "9"
      ]
     },
     "execution_count": 8,
     "metadata": {},
     "output_type": "execute_result"
    }
   ],
   "source": [
    "piles = [2,4,1,2,7,8]\n",
    "maxCoins(piles)"
   ]
  },
  {
   "cell_type": "code",
   "execution_count": null,
   "id": "2897afef",
   "metadata": {},
   "outputs": [],
   "source": []
  }
 ],
 "metadata": {
  "kernelspec": {
   "display_name": "Python 3 (ipykernel)",
   "language": "python",
   "name": "python3"
  },
  "language_info": {
   "codemirror_mode": {
    "name": "ipython",
    "version": 3
   },
   "file_extension": ".py",
   "mimetype": "text/x-python",
   "name": "python",
   "nbconvert_exporter": "python",
   "pygments_lexer": "ipython3",
   "version": "3.9.13"
  }
 },
 "nbformat": 4,
 "nbformat_minor": 5
}
