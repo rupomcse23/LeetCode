{
 "cells": [
  {
   "cell_type": "code",
   "execution_count": 1,
   "id": "dcfba90a",
   "metadata": {},
   "outputs": [],
   "source": [
    "def arrayRankTransform(arr):\n",
    "    \"\"\"\n",
    "    :type arr: List[int]\n",
    "    :rtype: List[int]\n",
    "    \"\"\"\n",
    "    rank = {}\n",
    "    i = 0\n",
    "    for x in sorted(arr):\n",
    "        if x not in rank:\n",
    "            rank[x] = i+1\n",
    "            i+=1\n",
    "            \n",
    "    return [rank[x] for x in arr]"
   ]
  },
  {
   "cell_type": "code",
   "execution_count": 2,
   "id": "1963f6c9",
   "metadata": {},
   "outputs": [
    {
     "data": {
      "text/plain": [
       "[5, 3, 4, 2, 8, 6, 7, 1, 3]"
      ]
     },
     "execution_count": 2,
     "metadata": {},
     "output_type": "execute_result"
    }
   ],
   "source": [
    "arr = [37,12,28,9,100,56,80,5,12]\n",
    "arrayRankTransform(arr)"
   ]
  }
 ],
 "metadata": {
  "kernelspec": {
   "display_name": "Python 3 (ipykernel)",
   "language": "python",
   "name": "python3"
  },
  "language_info": {
   "codemirror_mode": {
    "name": "ipython",
    "version": 3
   },
   "file_extension": ".py",
   "mimetype": "text/x-python",
   "name": "python",
   "nbconvert_exporter": "python",
   "pygments_lexer": "ipython3",
   "version": "3.9.13"
  }
 },
 "nbformat": 4,
 "nbformat_minor": 5
}
