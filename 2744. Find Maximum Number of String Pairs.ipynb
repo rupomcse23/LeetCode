{
 "cells": [
  {
   "cell_type": "code",
   "execution_count": 1,
   "id": "6d566624",
   "metadata": {},
   "outputs": [],
   "source": [
    "def maximumNumberOfStringPairs(words):\n",
    "    \"\"\"\n",
    "    :type words: List[str]\n",
    "    :rtype: int\n",
    "    \"\"\"\n",
    "    n = len(words)\n",
    "    cnt = 0\n",
    "    for i in range(n):\n",
    "        for j in range(i+1,n):\n",
    "            if words[i] == words[j][::-1]:\n",
    "                cnt += 1\n",
    "    return cnt\n",
    "            "
   ]
  },
  {
   "cell_type": "code",
   "execution_count": 2,
   "id": "b65d3aa5",
   "metadata": {},
   "outputs": [
    {
     "data": {
      "text/plain": [
       "2"
      ]
     },
     "execution_count": 2,
     "metadata": {},
     "output_type": "execute_result"
    }
   ],
   "source": [
    "words = [\"cd\",\"ac\",\"dc\",\"ca\",\"zz\"]\n",
    "maximumNumberOfStringPairs(words)"
   ]
  },
  {
   "cell_type": "code",
   "execution_count": null,
   "id": "c3ca2a3b",
   "metadata": {},
   "outputs": [],
   "source": []
  }
 ],
 "metadata": {
  "kernelspec": {
   "display_name": "Python 3 (ipykernel)",
   "language": "python",
   "name": "python3"
  },
  "language_info": {
   "codemirror_mode": {
    "name": "ipython",
    "version": 3
   },
   "file_extension": ".py",
   "mimetype": "text/x-python",
   "name": "python",
   "nbconvert_exporter": "python",
   "pygments_lexer": "ipython3",
   "version": "3.9.13"
  }
 },
 "nbformat": 4,
 "nbformat_minor": 5
}
