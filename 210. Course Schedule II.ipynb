{
 "cells": [
  {
   "cell_type": "code",
   "execution_count": 1,
   "id": "6c1bb3b6-70d0-4b2c-a086-47737ec4d9f2",
   "metadata": {},
   "outputs": [],
   "source": [
    "def findOrder(numCourses, prerequisites):\n",
    "    \"\"\"\n",
    "    :type numCourses: int\n",
    "    :type prerequisites: List[List[int]]\n",
    "    :rtype: List[int]\n",
    "    \"\"\"\n",
    "    preMap = {i:[] for i in range(numCourses)}\n",
    "    output = []\n",
    "    cycle = set()\n",
    "    visited = set()\n",
    "    \n",
    "    for crs, pre in prerequisites:\n",
    "        preMap[crs].append(pre)\n",
    "        \n",
    "    def dfs(crs):\n",
    "        if crs in cycle:\n",
    "            return False\n",
    "        if crs in visited:\n",
    "            return True\n",
    "        \n",
    "        cycle.add(crs)\n",
    "        for pre in preMap[crs]:\n",
    "            if not dfs(pre):\n",
    "                return False\n",
    "        cycle.remove(crs)\n",
    "        visited.add(crs)\n",
    "        output.append(crs)\n",
    "        return True\n",
    "    for crs in range(numCourses):\n",
    "        if not dfs(crs):\n",
    "                return []\n",
    "    return output\n",
    "    "
   ]
  },
  {
   "cell_type": "code",
   "execution_count": 2,
   "id": "0491172d-10b9-4efb-8158-3ab878e5fe4d",
   "metadata": {},
   "outputs": [
    {
     "data": {
      "text/plain": [
       "[0, 1]"
      ]
     },
     "execution_count": 2,
     "metadata": {},
     "output_type": "execute_result"
    }
   ],
   "source": [
    "numCourses = 2\n",
    "prerequisites = [[1,0]]\n",
    "findOrder(numCourses, prerequisites)"
   ]
  },
  {
   "cell_type": "code",
   "execution_count": null,
   "id": "8876b709-3793-45be-ad4e-f4a74fac25e4",
   "metadata": {},
   "outputs": [],
   "source": []
  }
 ],
 "metadata": {
  "kernelspec": {
   "display_name": "Python 3 (ipykernel)",
   "language": "python",
   "name": "python3"
  },
  "language_info": {
   "codemirror_mode": {
    "name": "ipython",
    "version": 3
   },
   "file_extension": ".py",
   "mimetype": "text/x-python",
   "name": "python",
   "nbconvert_exporter": "python",
   "pygments_lexer": "ipython3",
   "version": "3.9.13"
  }
 },
 "nbformat": 4,
 "nbformat_minor": 5
}
