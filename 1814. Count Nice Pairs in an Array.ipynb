{
 "cells": [
  {
   "cell_type": "code",
   "execution_count": 1,
   "id": "a4c8a63c",
   "metadata": {},
   "outputs": [],
   "source": [
    "def countNicePairs(nums):\n",
    "    \"\"\"\n",
    "    :type nums: List[int]\n",
    "    :rtype: int\n",
    "    \"\"\"\n",
    "    # nums[i] + rev(nums[j]) == nums[j] + rev(nums[i])\n",
    "    \n",
    "    d = {}\n",
    "    \n",
    "    for i in nums:\n",
    "        diff = i - int(str(i)[::-1])\n",
    "        \n",
    "        if diff not in d:\n",
    "            d[diff] = 1\n",
    "        else:\n",
    "            d[diff] += 1\n",
    "    res = 0\n",
    "    \n",
    "    for n in d.values():\n",
    "        res = res + (n*(n-1)//2)\n",
    "    return res % (10**9 + 7)\n",
    "        "
   ]
  },
  {
   "cell_type": "code",
   "execution_count": 2,
   "id": "0c1ed551",
   "metadata": {},
   "outputs": [
    {
     "data": {
      "text/plain": [
       "4"
      ]
     },
     "execution_count": 2,
     "metadata": {},
     "output_type": "execute_result"
    }
   ],
   "source": [
    "nums = [13,10,35,24,76]\n",
    "countNicePairs(nums)"
   ]
  },
  {
   "cell_type": "code",
   "execution_count": null,
   "id": "0c642161",
   "metadata": {},
   "outputs": [],
   "source": []
  }
 ],
 "metadata": {
  "kernelspec": {
   "display_name": "Python 3 (ipykernel)",
   "language": "python",
   "name": "python3"
  },
  "language_info": {
   "codemirror_mode": {
    "name": "ipython",
    "version": 3
   },
   "file_extension": ".py",
   "mimetype": "text/x-python",
   "name": "python",
   "nbconvert_exporter": "python",
   "pygments_lexer": "ipython3",
   "version": "3.9.13"
  }
 },
 "nbformat": 4,
 "nbformat_minor": 5
}
