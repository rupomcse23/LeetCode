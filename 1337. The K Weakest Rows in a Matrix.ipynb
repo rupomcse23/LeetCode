{
 "cells": [
  {
   "cell_type": "code",
   "execution_count": 1,
   "id": "9f770638",
   "metadata": {},
   "outputs": [],
   "source": [
    " def kWeakestRows(mat, k):\n",
    "    \"\"\"\n",
    "    :type mat: List[List[int]]\n",
    "    :type k: int\n",
    "    :rtype: List[int]\n",
    "    \"\"\"\n",
    "    temp = []\n",
    "        \n",
    "    for i,m in enumerate(mat):\n",
    "        cad = (sum(m),i)\n",
    "        temp.append(cad)\n",
    "    temp.sort()\n",
    "        \n",
    "    return [i[1] for i in temp[:k]]"
   ]
  },
  {
   "cell_type": "code",
   "execution_count": 2,
   "id": "feaeedd2",
   "metadata": {},
   "outputs": [
    {
     "data": {
      "text/plain": [
       "[2, 0, 3]"
      ]
     },
     "execution_count": 2,
     "metadata": {},
     "output_type": "execute_result"
    }
   ],
   "source": [
    "mat = [[1,1,0,0,0],\n",
    " [1,1,1,1,0],\n",
    " [1,0,0,0,0],\n",
    " [1,1,0,0,0],\n",
    " [1,1,1,1,1]]\n",
    "k = 3\n",
    "kWeakestRows( mat, k)"
   ]
  },
  {
   "cell_type": "code",
   "execution_count": null,
   "id": "303bce60",
   "metadata": {},
   "outputs": [],
   "source": []
  }
 ],
 "metadata": {
  "kernelspec": {
   "display_name": "Python 3 (ipykernel)",
   "language": "python",
   "name": "python3"
  },
  "language_info": {
   "codemirror_mode": {
    "name": "ipython",
    "version": 3
   },
   "file_extension": ".py",
   "mimetype": "text/x-python",
   "name": "python",
   "nbconvert_exporter": "python",
   "pygments_lexer": "ipython3",
   "version": "3.9.13"
  }
 },
 "nbformat": 4,
 "nbformat_minor": 5
}
