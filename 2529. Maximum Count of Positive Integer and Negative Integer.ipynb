{
 "cells": [
  {
   "cell_type": "code",
   "execution_count": 1,
   "id": "5f662427",
   "metadata": {},
   "outputs": [],
   "source": [
    "def maximumCount(nums):\n",
    "    \"\"\"\n",
    "    :type nums: List[int]\n",
    "    :rtype: int\n",
    "    \"\"\"\n",
    "    cnt_p = 0\n",
    "    cnt_n = 0\n",
    "    for x in nums:\n",
    "        if x < 0:\n",
    "            cnt_p += 1\n",
    "        elif x > 0:\n",
    "            cnt_n += 1\n",
    "    return max(cnt_p,cnt_n)\n",
    "        "
   ]
  },
  {
   "cell_type": "code",
   "execution_count": 2,
   "id": "c1b96a20",
   "metadata": {},
   "outputs": [
    {
     "data": {
      "text/plain": [
       "3"
      ]
     },
     "execution_count": 2,
     "metadata": {},
     "output_type": "execute_result"
    }
   ],
   "source": [
    "nums = [-2,-1,-1,1,2,3]\n",
    "maximumCount(nums)"
   ]
  },
  {
   "cell_type": "code",
   "execution_count": null,
   "id": "f93a785e",
   "metadata": {},
   "outputs": [],
   "source": []
  }
 ],
 "metadata": {
  "kernelspec": {
   "display_name": "Python 3 (ipykernel)",
   "language": "python",
   "name": "python3"
  },
  "language_info": {
   "codemirror_mode": {
    "name": "ipython",
    "version": 3
   },
   "file_extension": ".py",
   "mimetype": "text/x-python",
   "name": "python",
   "nbconvert_exporter": "python",
   "pygments_lexer": "ipython3",
   "version": "3.9.13"
  }
 },
 "nbformat": 4,
 "nbformat_minor": 5
}
