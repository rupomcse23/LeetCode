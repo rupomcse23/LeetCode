{
 "cells": [
  {
   "cell_type": "code",
   "execution_count": 9,
   "id": "c72f9cdc",
   "metadata": {},
   "outputs": [],
   "source": [
    "def coinChange(coins, amount):\n",
    "    \"\"\"\n",
    "    :type coins: List[int]\n",
    "    :type amount: int\n",
    "    :rtype: int\n",
    "    \"\"\"\n",
    "    dp = [amount+1] * (amount+1)\n",
    "    dp[0] = 0\n",
    "    for a in range(1, amount+1):\n",
    "        for c in coins:\n",
    "            if a-c >= 0:\n",
    "                dp[a] = min(dp[a], 1+ dp[a-c])\n",
    "    return dp[amount] if dp[amount] != amount +1 else -1\n",
    "        "
   ]
  },
  {
   "cell_type": "code",
   "execution_count": 14,
   "id": "41d161c7",
   "metadata": {},
   "outputs": [
    {
     "data": {
      "text/plain": [
       "-1"
      ]
     },
     "execution_count": 14,
     "metadata": {},
     "output_type": "execute_result"
    }
   ],
   "source": [
    "coins = [2] \n",
    "amount = 3\n",
    "\n",
    "coinChange(coins, amount)"
   ]
  },
  {
   "cell_type": "code",
   "execution_count": null,
   "id": "fc312888",
   "metadata": {},
   "outputs": [],
   "source": []
  }
 ],
 "metadata": {
  "kernelspec": {
   "display_name": "Python 3 (ipykernel)",
   "language": "python",
   "name": "python3"
  },
  "language_info": {
   "codemirror_mode": {
    "name": "ipython",
    "version": 3
   },
   "file_extension": ".py",
   "mimetype": "text/x-python",
   "name": "python",
   "nbconvert_exporter": "python",
   "pygments_lexer": "ipython3",
   "version": "3.9.13"
  }
 },
 "nbformat": 4,
 "nbformat_minor": 5
}
