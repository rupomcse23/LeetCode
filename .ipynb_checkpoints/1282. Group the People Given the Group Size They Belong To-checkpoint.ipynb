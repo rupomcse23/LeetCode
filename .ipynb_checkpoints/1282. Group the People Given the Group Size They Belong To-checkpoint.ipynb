{
 "cells": [
  {
   "cell_type": "code",
   "execution_count": 1,
   "id": "ee82d768",
   "metadata": {},
   "outputs": [],
   "source": [
    "import collections\n",
    "def groupThePeople(groupSizes):\n",
    "    \"\"\"\n",
    "    :type groupSizes: List[int]\n",
    "    :rtype: List[List[int]]\n",
    "    \"\"\"\n",
    "    g = collections.defaultdict(list)\n",
    "    print(g)\n",
    "    for i,x in enumerate(groupSizes):\n",
    "        print(g)\n",
    "        g[x].append(i)\n",
    "        \n",
    "        result = []\n",
    "    for k in g.keys():\n",
    "        while(len(g[k])>0):\n",
    "            result.append(g[k][:k])\n",
    "            g[k]=g[k][k:]\n",
    "    return result\n",
    "    \n",
    "        "
   ]
  },
  {
   "cell_type": "code",
   "execution_count": 2,
   "id": "49a71ed1",
   "metadata": {},
   "outputs": [
    {
     "data": {
      "text/plain": [
       "[[0, 1, 2], [3, 4, 6], [5]]"
      ]
     },
     "execution_count": 2,
     "metadata": {},
     "output_type": "execute_result"
    }
   ],
   "source": [
    "groupSizes = [3,3,3,3,3,1,3]\n",
    "groupThePeople(groupSizes)"
   ]
  },
  {
   "cell_type": "code",
   "execution_count": null,
   "id": "a802c14e",
   "metadata": {},
   "outputs": [],
   "source": []
  }
 ],
 "metadata": {
  "kernelspec": {
   "display_name": "Python 3 (ipykernel)",
   "language": "python",
   "name": "python3"
  },
  "language_info": {
   "codemirror_mode": {
    "name": "ipython",
    "version": 3
   },
   "file_extension": ".py",
   "mimetype": "text/x-python",
   "name": "python",
   "nbconvert_exporter": "python",
   "pygments_lexer": "ipython3",
   "version": "3.9.13"
  }
 },
 "nbformat": 4,
 "nbformat_minor": 5
}
