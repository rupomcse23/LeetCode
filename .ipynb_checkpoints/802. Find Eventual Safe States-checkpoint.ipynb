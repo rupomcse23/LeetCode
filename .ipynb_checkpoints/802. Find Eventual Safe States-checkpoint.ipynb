{
 "cells": [
  {
   "cell_type": "code",
   "execution_count": 1,
   "id": "bfc19dff-7b9c-47c9-aae4-fa1e8dfbef5f",
   "metadata": {},
   "outputs": [],
   "source": [
    "def eventualSafeNodes(graph):\n",
    "    \"\"\"\n",
    "    :type graph: List[List[int]]\n",
    "    :rtype: List[int]\n",
    "    \"\"\"\n",
    "    n = len(graph)\n",
    "    safe = {}\n",
    "    \n",
    "    def dfs(i):\n",
    "        if i in safe:\n",
    "            return safe[i]\n",
    "        safe[i] = False\n",
    "        for nei in graph[i]:\n",
    "            if not dfs(nei):\n",
    "                return False\n",
    "        safe[i] = True\n",
    "        return safe[i]\n",
    "    \n",
    "    \n",
    "    \n",
    "    res = []\n",
    "    for i in range(n):\n",
    "        if dfs(i):\n",
    "            res.append(i)\n",
    "    return res"
   ]
  },
  {
   "cell_type": "code",
   "execution_count": 2,
   "id": "ffe7e482-d221-4b2b-8ea9-b314e9481e22",
   "metadata": {},
   "outputs": [
    {
     "data": {
      "text/plain": [
       "[2, 4, 5, 6]"
      ]
     },
     "execution_count": 2,
     "metadata": {},
     "output_type": "execute_result"
    }
   ],
   "source": [
    "graph = [[1,2],[2,3],[5],[0],[5],[],[]] \n",
    "eventualSafeNodes(graph)"
   ]
  },
  {
   "cell_type": "code",
   "execution_count": null,
   "id": "28e76baa-6ba2-4326-9e95-290d69d93e87",
   "metadata": {},
   "outputs": [],
   "source": []
  }
 ],
 "metadata": {
  "kernelspec": {
   "display_name": "Python 3 (ipykernel)",
   "language": "python",
   "name": "python3"
  },
  "language_info": {
   "codemirror_mode": {
    "name": "ipython",
    "version": 3
   },
   "file_extension": ".py",
   "mimetype": "text/x-python",
   "name": "python",
   "nbconvert_exporter": "python",
   "pygments_lexer": "ipython3",
   "version": "3.9.13"
  }
 },
 "nbformat": 4,
 "nbformat_minor": 5
}
