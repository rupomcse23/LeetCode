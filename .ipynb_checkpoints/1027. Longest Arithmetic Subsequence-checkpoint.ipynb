{
 "cells": [
  {
   "cell_type": "code",
   "execution_count": 12,
   "id": "e5526d2e-c14c-4957-ab77-305bed505709",
   "metadata": {},
   "outputs": [],
   "source": [
    "# wrong\n",
    "# not solved\n",
    "def longestArithSeqLength(nums):\n",
    "        \"\"\"\n",
    "        :type nums: List[int]\n",
    "        :rtype: int\n",
    "        \"\"\"\n",
    "        lis = [1] * len(nums)\n",
    "        lds = [1] * len(nums)\n",
    "        \n",
    "        for i in range(len(nums)-1,-1,-1):\n",
    "            for j in range(i+1, len(nums)):\n",
    "                if nums[i] < nums[j]:\n",
    "                    lis[i] = max(lis[i], 1 + lis[j])\n",
    "                if nums[i] > nums[j]:\n",
    "                    lds[i] = max(lis[j], 1 + lis[i])\n",
    "        print(lis)\n",
    "        print(lds)\n",
    "        return max(max(lis),max(lds))"
   ]
  },
  {
   "cell_type": "code",
   "execution_count": 13,
   "id": "71e7c325-d98c-4fd2-92fc-bd48ce21bac5",
   "metadata": {},
   "outputs": [
    {
     "name": "stdout",
     "output_type": "stream",
     "text": [
      "[2, 3, 2, 2, 1]\n",
      "[2, 4, 2, 1, 1]\n"
     ]
    },
    {
     "data": {
      "text/plain": [
       "4"
      ]
     },
     "execution_count": 13,
     "metadata": {},
     "output_type": "execute_result"
    }
   ],
   "source": [
    "nums = [9,4,7,2,10]\n",
    "longestArithSeqLength(nums)"
   ]
  },
  {
   "cell_type": "code",
   "execution_count": null,
   "id": "c7bc8aa3-6e26-4b37-adff-183f84ecf6ff",
   "metadata": {},
   "outputs": [],
   "source": []
  }
 ],
 "metadata": {
  "kernelspec": {
   "display_name": "Python 3 (ipykernel)",
   "language": "python",
   "name": "python3"
  },
  "language_info": {
   "codemirror_mode": {
    "name": "ipython",
    "version": 3
   },
   "file_extension": ".py",
   "mimetype": "text/x-python",
   "name": "python",
   "nbconvert_exporter": "python",
   "pygments_lexer": "ipython3",
   "version": "3.9.13"
  }
 },
 "nbformat": 4,
 "nbformat_minor": 5
}
