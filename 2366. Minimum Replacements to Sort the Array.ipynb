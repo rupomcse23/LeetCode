{
 "cells": [
  {
   "cell_type": "code",
   "execution_count": 5,
   "id": "1ef86d33",
   "metadata": {},
   "outputs": [],
   "source": [
    "def minimumReplacement(nums):\n",
    "    \"\"\"\n",
    "    :type nums: List[int]\n",
    "    :rtype: int\n",
    "    \"\"\"\n",
    "        \n",
    "    n = len(nums)\n",
    "    total = 0\n",
    "    for i in range(n-1, -1, -1):\n",
    "        if(i -1 >= 0 and nums[i] < nums[i-1]):\n",
    "            p = nums[i-1]\n",
    "            c = nums[i]\n",
    "            count = (p+c-1)//c\n",
    "            total += (count -1)\n",
    "            nums[i-1] = p // count\n",
    "    return total"
   ]
  },
  {
   "cell_type": "code",
   "execution_count": 6,
   "id": "7a615c0f",
   "metadata": {},
   "outputs": [
    {
     "data": {
      "text/plain": [
       "2"
      ]
     },
     "execution_count": 6,
     "metadata": {},
     "output_type": "execute_result"
    }
   ],
   "source": [
    "nums = [3,9,3]\n",
    "minimumReplacement(nums)"
   ]
  },
  {
   "cell_type": "code",
   "execution_count": null,
   "id": "8e2d6a32",
   "metadata": {},
   "outputs": [],
   "source": []
  }
 ],
 "metadata": {
  "kernelspec": {
   "display_name": "Python 3 (ipykernel)",
   "language": "python",
   "name": "python3"
  },
  "language_info": {
   "codemirror_mode": {
    "name": "ipython",
    "version": 3
   },
   "file_extension": ".py",
   "mimetype": "text/x-python",
   "name": "python",
   "nbconvert_exporter": "python",
   "pygments_lexer": "ipython3",
   "version": "3.9.13"
  }
 },
 "nbformat": 4,
 "nbformat_minor": 5
}
