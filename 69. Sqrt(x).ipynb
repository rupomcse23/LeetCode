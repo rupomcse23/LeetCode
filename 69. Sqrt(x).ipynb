{
 "cells": [
  {
   "cell_type": "code",
   "execution_count": 10,
   "id": "0b0d0510-953a-4e15-847a-7223ba617d8c",
   "metadata": {},
   "outputs": [],
   "source": [
    " def mySqrt(x):\n",
    "        \"\"\"\n",
    "        :type x: int\n",
    "        :rtype: int\n",
    "        \"\"\"\n",
    "        l = 0\n",
    "        r = x\n",
    "        res = 0\n",
    "        \n",
    "        while l<=r:\n",
    "            m = l + ((r-l)//2)\n",
    "            if m**2 > x:\n",
    "                r = m-1\n",
    "            elif m**2 < x:\n",
    "                l = m+1\n",
    "                res = m\n",
    "            else:\n",
    "                return m\n",
    "        return res\n"
   ]
  },
  {
   "cell_type": "code",
   "execution_count": 14,
   "id": "d8281fff-83e8-44b1-aa23-7a2cb92def66",
   "metadata": {},
   "outputs": [
    {
     "data": {
      "text/plain": [
       "3"
      ]
     },
     "execution_count": 14,
     "metadata": {},
     "output_type": "execute_result"
    }
   ],
   "source": [
    "x = 9\n",
    "mySqrt(x)"
   ]
  },
  {
   "cell_type": "code",
   "execution_count": null,
   "id": "5fb154c9-bbd7-48ce-b73d-e93581f3aaf4",
   "metadata": {},
   "outputs": [],
   "source": []
  }
 ],
 "metadata": {
  "kernelspec": {
   "display_name": "Python 3 (ipykernel)",
   "language": "python",
   "name": "python3"
  },
  "language_info": {
   "codemirror_mode": {
    "name": "ipython",
    "version": 3
   },
   "file_extension": ".py",
   "mimetype": "text/x-python",
   "name": "python",
   "nbconvert_exporter": "python",
   "pygments_lexer": "ipython3",
   "version": "3.9.13"
  }
 },
 "nbformat": 4,
 "nbformat_minor": 5
}
