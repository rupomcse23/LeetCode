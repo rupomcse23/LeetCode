{
 "cells": [
  {
   "cell_type": "code",
   "execution_count": 10,
   "id": "5a3fae71",
   "metadata": {},
   "outputs": [],
   "source": [
    "def minSubArrayLen(target, nums):\n",
    "    \"\"\"\n",
    "    :type target: int\n",
    "    :type nums: List[int]\n",
    "    :rtype: int\n",
    "    \"\"\"\n",
    "    l = 0\n",
    "    res = float(\"inf\")\n",
    "    total = 0\n",
    "    for r in range(len(nums)):\n",
    "        total += nums[r]\n",
    "        while total >= target:\n",
    "            total -= nums[l]\n",
    "            res = min(r-l+1,res)\n",
    "            l += 1\n",
    "    return 0 if res == float(\"inf\") else res"
   ]
  },
  {
   "cell_type": "code",
   "execution_count": 11,
   "id": "23b99255",
   "metadata": {},
   "outputs": [
    {
     "data": {
      "text/plain": [
       "2"
      ]
     },
     "execution_count": 11,
     "metadata": {},
     "output_type": "execute_result"
    }
   ],
   "source": [
    "target = 7\n",
    "nums = [2,3,1,2,4,3]\n",
    "minSubArrayLen(target, nums)"
   ]
  },
  {
   "cell_type": "code",
   "execution_count": null,
   "id": "d7a2a4c9",
   "metadata": {},
   "outputs": [],
   "source": []
  }
 ],
 "metadata": {
  "kernelspec": {
   "display_name": "Python 3 (ipykernel)",
   "language": "python",
   "name": "python3"
  },
  "language_info": {
   "codemirror_mode": {
    "name": "ipython",
    "version": 3
   },
   "file_extension": ".py",
   "mimetype": "text/x-python",
   "name": "python",
   "nbconvert_exporter": "python",
   "pygments_lexer": "ipython3",
   "version": "3.9.13"
  }
 },
 "nbformat": 4,
 "nbformat_minor": 5
}
